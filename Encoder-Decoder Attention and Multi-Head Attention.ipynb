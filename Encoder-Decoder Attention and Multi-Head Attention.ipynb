{
 "cells": [
  {
   "cell_type": "code",
   "execution_count": 1,
   "id": "506afc09-9612-4a99-afb1-2115e88f6067",
   "metadata": {},
   "outputs": [],
   "source": [
    "import torch\n",
    "import torch.nn as nn\n",
    "import torch.nn.functional as F"
   ]
  },
  {
   "cell_type": "code",
   "execution_count": 6,
   "id": "835be437-6373-4943-b050-c5a6b101ce16",
   "metadata": {},
   "outputs": [],
   "source": [
    "class Attention(nn.Module):\n",
    "    def __init__(self, d_model =2,\n",
    "                 row_dim =0,\n",
    "                 col_dim =1):\n",
    "        super().__init__()\n",
    "        #storing and initializing weight , key and value matrix\n",
    "        self.W_q = nn.Linear(in_features = d_model,\n",
    "                             out_features= d_model,\n",
    "                             bias = False)\n",
    "        self.W_k = nn.Linear(in_features = d_model,\n",
    "                             out_features= d_model,\n",
    "                             bias = False)\n",
    "        self.W_v = nn.Linear(in_features = d_model,\n",
    "                             out_features= d_model,\n",
    "                             bias = False)\n",
    "        self.row_dim=row_dim\n",
    "        self.col_dim=col_dim\n",
    "    #calculating attention values that how are the words in the sentences are related\n",
    "    def forward(self, encodings_for_q,encodings_for_v,encodings_for_k,mask = None):\n",
    "        #same encodings but differently calculated\n",
    "        q = self.W_q(encodings_for_q) #query matrix\n",
    "        k = self.W_k(encodings_for_k) #key matrix\n",
    "        v = self.W_v(encodings_for_v) #value matrix\n",
    "\n",
    "        sims = torch.matmul(q,k.transpose(self.row_dim,self.col_dim)) #similarities for each queries with different key values\n",
    "        scaled_sims = sims/torch.tensor(k.size(self.col_dim)**0.5)\n",
    "\n",
    "        if mask is not None:\n",
    "            scaled_sims = scaled_sims.masked_fill(mask = mask, value = -1e9) #masked_fill only work on the boolean matrix// where the matrix gets true value; it returns the value\n",
    "        attention_percentage = F.softmax(scaled_sims, dim = self.col_dim)\n",
    "        attention_value = torch.matmul(attention_percentage,v)\n",
    "        return attention_value\n",
    "                 "
   ]
  },
  {
   "cell_type": "markdown",
   "id": "d9918e96-d3db-4a64-88c1-c01d4ab9273e",
   "metadata": {},
   "source": [
    "#### Calculate Encoder Decoder Attention"
   ]
  },
  {
   "cell_type": "code",
   "execution_count": 7,
   "id": "35051c55-922d-4c2d-9d28-e38279cf7262",
   "metadata": {},
   "outputs": [
    {
     "data": {
      "text/plain": [
       "tensor([[1.0100, 1.0641],\n",
       "        [0.2040, 0.7057],\n",
       "        [3.4989, 2.2427]], grad_fn=<MmBackward0>)"
      ]
     },
     "execution_count": 7,
     "metadata": {},
     "output_type": "execute_result"
    }
   ],
   "source": [
    "## create matrices of token encodings...\n",
    "encodings_for_q = torch.tensor([[1.16, 0.23],\n",
    "                                [0.57, 1.36],\n",
    "                                [4.41, -2.16]])\n",
    "\n",
    "encodings_for_k = torch.tensor([[1.16, 0.23],\n",
    "                                [0.57, 1.36],\n",
    "                                [4.41, -2.16]])\n",
    "\n",
    "encodings_for_v = torch.tensor([[1.16, 0.23],\n",
    "                                [0.57, 1.36],\n",
    "                                [4.41, -2.16]])\n",
    "\n",
    "## set the seed for the random number generator\n",
    "torch.manual_seed(42)\n",
    "\n",
    "## create an attention object\n",
    "attention = Attention(d_model=2,\n",
    "                      row_dim=0,\n",
    "                      col_dim=1)\n",
    "\n",
    "## calculate encoder-decoder attention\n",
    "attention(encodings_for_q, encodings_for_k, encodings_for_v)"
   ]
  },
  {
   "cell_type": "markdown",
   "id": "c00d0bcc-7352-4ea2-85c0-32d7ec631a2b",
   "metadata": {},
   "source": [
    "### Calculate Multi-Head Attention"
   ]
  },
  {
   "cell_type": "code",
   "execution_count": 10,
   "id": "ec165635-1d6b-4295-a754-369de39c2373",
   "metadata": {},
   "outputs": [],
   "source": [
    "class MultiHeadAttention(nn.Module):\n",
    "    def __init__(self,\n",
    "                 d_model =2,\n",
    "                 row_dim =0,\n",
    "                 col_dim =1,\n",
    "                 number_heads = 1):\n",
    "        super().__init__()\n",
    "    \n",
    "        self.col_dim=col_dim\n",
    "        #create a bunch of self heads\n",
    "        self.heads = nn.ModuleList(\n",
    "            [Attention(d_model, row_dim, col_dim) #initialize with same value each time\n",
    "             for _ in range(number_heads)]\n",
    "        )\n",
    "    def forward(self, encodings_for_q,encodings_for_v,encodings_for_k):\n",
    "        #run the data through all the attention heads\n",
    "        #get different value output and finally concatenate them is the main target\n",
    "        return torch.cat([head(encodings_for_q,\n",
    "                               encodings_for_k,\n",
    "                               encodings_for_v,)\n",
    "                          for head in self.heads],dim = self.col_dim)\n",
    "        \n",
    "                 "
   ]
  },
  {
   "cell_type": "code",
   "execution_count": 14,
   "id": "68f9559d-0848-4c52-bf90-3b2339466927",
   "metadata": {},
   "outputs": [
    {
     "data": {
      "text/plain": [
       "tensor([[ 1.0100,  1.0641, -0.7081, -0.8268],\n",
       "        [ 0.2040,  0.7057, -0.7417, -0.9193],\n",
       "        [ 3.4989,  2.2427, -0.7190, -0.8447]], grad_fn=<CatBackward0>)"
      ]
     },
     "execution_count": 14,
     "metadata": {},
     "output_type": "execute_result"
    }
   ],
   "source": [
    "## set the seed for the random number generator\n",
    "torch.manual_seed(42)\n",
    "\n",
    "## create an attention object\n",
    "multiHeadAttention = MultiHeadAttention(d_model=2,\n",
    "                                        row_dim=0,\n",
    "                                        col_dim=1,\n",
    "                                        number_heads=2)\n",
    "\n",
    "## calculate encoder-decoder attention\n",
    "multiHeadAttention(encodings_for_q, encodings_for_k, encodings_for_v)"
   ]
  },
  {
   "cell_type": "code",
   "execution_count": 15,
   "id": "27394256-b66e-4eb4-b2e5-a9fd58399069",
   "metadata": {},
   "outputs": [
    {
     "data": {
      "text/plain": [
       "tensor([[1.0100, 1.0641],\n",
       "        [0.2040, 0.7057],\n",
       "        [3.4989, 2.2427]], grad_fn=<CatBackward0>)"
      ]
     },
     "execution_count": 15,
     "metadata": {},
     "output_type": "execute_result"
    }
   ],
   "source": [
    "## set the seed for the random number generator\n",
    "torch.manual_seed(42)\n",
    "\n",
    "## create an attention object\n",
    "multiHeadAttention = MultiHeadAttention(d_model=2,\n",
    "                                        row_dim=0,\n",
    "                                        col_dim=1,\n",
    "                                        number_heads=1)\n",
    "\n",
    "## calculate encoder-decoder attention\n",
    "multiHeadAttention(encodings_for_q, encodings_for_k, encodings_for_v)"
   ]
  },
  {
   "cell_type": "code",
   "execution_count": null,
   "id": "83d2aefd-0a11-451e-adde-2c9e93bce013",
   "metadata": {},
   "outputs": [],
   "source": []
  }
 ],
 "metadata": {
  "kernelspec": {
   "display_name": "Python 3 (ipykernel)",
   "language": "python",
   "name": "python3"
  },
  "language_info": {
   "codemirror_mode": {
    "name": "ipython",
    "version": 3
   },
   "file_extension": ".py",
   "mimetype": "text/x-python",
   "name": "python",
   "nbconvert_exporter": "python",
   "pygments_lexer": "ipython3",
   "version": "3.11.5"
  }
 },
 "nbformat": 4,
 "nbformat_minor": 5
}
